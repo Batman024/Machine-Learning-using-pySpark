{
 "cells": [
  {
   "cell_type": "markdown",
   "metadata": {},
   "source": [
    "<h1> Logistic Regression using pySpark"
   ]
  },
  {
   "cell_type": "code",
   "execution_count": 2,
   "metadata": {},
   "outputs": [],
   "source": [
    "#setting the bucket variable\n",
    "BUCKET = 'my_first_project_0242'\n",
    "os.environ['BUCKET'] = BUCKET"
   ]
  },
  {
   "cell_type": "markdown",
   "metadata": {},
   "source": [
    "Check whether the spark-context/spark-session objects exists or not\n",
    "Their default name is spark and sc"
   ]
  },
  {
   "cell_type": "code",
   "execution_count": 3,
   "metadata": {},
   "outputs": [
    {
     "name": "stdout",
     "output_type": "stream",
     "text": [
      "<pyspark.sql.session.SparkSession object at 0x7fc0c559b3d0>\n"
     ]
    }
   ],
   "source": [
    "print spark"
   ]
  },
  {
   "cell_type": "code",
   "execution_count": 4,
   "metadata": {},
   "outputs": [
    {
     "name": "stdout",
     "output_type": "stream",
     "text": [
      "<SparkContext master=yarn appName=pyspark-shell>\n"
     ]
    }
   ],
   "source": [
    "print sc"
   ]
  },
  {
   "cell_type": "markdown",
   "metadata": {},
   "source": [
    "yes! They do exist\n",
    "If they don't exist we will have to create it using the following line of code:\n",
    "\n",
    "==========\n",
    "\n",
    "\n",
    "from pyspark.sql import SparkSession \n",
    "from pyspark import SparkContext \n",
    "sc = SparkContext('local','logistic')\n",
    "spark = SparkSession.builder.appName(\"logistic regression using spark\").getOrCreate()\n",
    "\n",
    "\n",
    "\n",
    "=========="
   ]
  },
  {
   "cell_type": "code",
   "execution_count": 25,
   "metadata": {},
   "outputs": [],
   "source": [
    "traindays = spark.read.option(\"header\",\"true\").csv('gs://{}/flights/trainday.csv'.format(BUCKET))\n",
    "traindays.createOrReplaceTempView('traindays_view')\n"
   ]
  },
  {
   "cell_type": "code",
   "execution_count": 24,
   "metadata": {},
   "outputs": [
    {
     "name": "stdout",
     "output_type": "stream",
     "text": [
      "+----------+------------+\n",
      "|   FL_DATE|is_train_day|\n",
      "+----------+------------+\n",
      "|2015-01-01|        True|\n",
      "|2015-01-02|       False|\n",
      "|2015-01-03|       False|\n",
      "|2015-01-04|        True|\n",
      "|2015-01-05|        True|\n",
      "+----------+------------+\n",
      "\n"
     ]
    }
   ],
   "source": [
    "spark.sql('SELECT * from traindays_view LIMIT 5').show()"
   ]
  },
  {
   "cell_type": "code",
   "execution_count": 10,
   "metadata": {},
   "outputs": [],
   "source": [
    "from pyspark.sql.types import StringType,StructField,FloatType,StructType\n",
    "header = 'FL_DATE,UNIQUE_CARRIER,AIRLINE_ID,CARRIER,FL_NUM,ORIGIN_AIRPORT_ID,ORIGIN_AIRPORT_SEQ_ID,ORIGIN_CITY_MARKET_ID,ORIGIN,DEST_AIRPORT_ID,DEST_AIRPORT_SEQ_ID,DEST_CITY_MARKET_ID,DEST,CRS_DEP_TIME,DEP_TIME,DEP_DELAY,TAXI_OUT,WHEELS_OFF,WHEELS_ON,TAXI_IN,CRS_ARR_TIME,ARR_TIME,ARR_DELAY,CANCELLED,CANCELLATION_CODE,DIVERTED,DISTANCE,DEP_AIRPORT_LAT,DEP_AIRPORT_LON,DEP_AIRPORT_TZOFFSET,ARR_AIRPORT_LAT,ARR_AIRPORT_LON,ARR_AIRPORT_TZOFFSET,EVENT,NOTIFY_TIME'\n",
    "\n",
    "\n",
    "def get_structfield(colname):\n",
    "  if colname in ['ARR_DELAY','DEP_DELAY','DISTANCE','TAXI_OUT']:\n",
    "    return StructField(colname,FloatType(),True)\n",
    "  else:\n",
    "    return StructField(colname,StringType(),True)\n",
    "  \n",
    "  \n",
    "schema = StructType([get_structfield(colname) for colname in header.split(',')])"
   ]
  },
  {
   "cell_type": "code",
   "execution_count": 86,
   "metadata": {},
   "outputs": [
    {
     "data": {
      "text/plain": [
       "['FL_DATE', 'is_train_day']"
      ]
     },
     "execution_count": 86,
     "metadata": {},
     "output_type": "execute_result"
    }
   ],
   "source": [
    "#inputs = 'gs://{}/flights/tzcorr/all_flights-00000-*'.format(BUCKET)\n",
    "inputs = 'gs://{}/flights/tzcorr/all_flights-00000-*'.format(BUCKET)\n",
    "flights = spark.read.schema(schema).csv(inputs)\n",
    "\n",
    "flights.createOrReplaceTempView('flights_view')\n",
    "#flights.columns\n",
    "\n",
    "traindays.columns"
   ]
  },
  {
   "cell_type": "markdown",
   "metadata": {},
   "source": [
    "Querying the relevant data"
   ]
  },
  {
   "cell_type": "code",
   "execution_count": 100,
   "metadata": {},
   "outputs": [
    {
     "name": "stdout",
     "output_type": "stream",
     "text": [
      "[Row(DEP_DELAY=51.0, TAXI_OUT=26.0, ARR_DELAY=46.0, DISTANCE=567.0), Row(DEP_DELAY=-1.0, TAXI_OUT=13.0, ARR_DELAY=-16.0, DISTANCE=67.0)]\n"
     ]
    }
   ],
   "source": [
    "# query = \"\"\"\n",
    "# SELECT f.DEP_DELAY,f.TAXI_OUT,f.ARR_DELAY,f.DISTANCE from flights_view f \n",
    "# join traindays_view t  on f.FL_DATE == t.FL_DATE where t.is_train_day == 'True'\n",
    "# \"\"\"\n",
    "\n",
    "query = \"\"\"\n",
    "SELECT\n",
    "  f.DEP_DELAY,f.TAXI_OUT,f.ARR_DELAY,f.DISTANCE\n",
    "FROM flights_view f\n",
    "JOIN traindays_view t\n",
    "ON f.FL_DATE == t.FL_DATE\n",
    "WHERE\n",
    "  t.is_train_day == 'True'\n",
    "\"\"\"\n",
    "\n",
    "\n",
    "# trainquery = \"\"\"\n",
    "# SELECT\n",
    "#   f.DEP_DELAY,f.TAXI_OUT,f.ARR_DELAY,f.DISTANCE\n",
    "# FROM flights_view f\n",
    "# JOIN traindays_view t\n",
    "# ON f.FL_DATE == t.FL_DATE\n",
    "# WHERE\n",
    "#   t.is_train_day == 'True'\n",
    "# \"\"\"\n",
    "\n",
    "data = spark.sql(query)\n",
    "print(data.head(2))"
   ]
  },
  {
   "cell_type": "code",
   "execution_count": 101,
   "metadata": {},
   "outputs": [
    {
     "name": "stdout",
     "output_type": "stream",
     "text": [
      "+-------+-----------------+-----------------+-----------------+-----------------+\n",
      "|summary|        DEP_DELAY|         TAXI_OUT|        ARR_DELAY|         DISTANCE|\n",
      "+-------+-----------------+-----------------+-----------------+-----------------+\n",
      "|  count|           470518|           470288|           468986|           473916|\n",
      "|   mean| 8.95174467289243|16.10602651991971|3.612269875859834|829.2826534660151|\n",
      "| stddev|35.14741134234194| 8.74350523336888|37.10003871707921|617.3164121106863|\n",
      "|    min|            -41.0|              1.0|            -81.0|             31.0|\n",
      "|    max|           1878.0|            177.0|           1898.0|           4983.0|\n",
      "+-------+-----------------+-----------------+-----------------+-----------------+\n",
      "\n"
     ]
    }
   ],
   "source": [
    "data.describe().show()"
   ]
  },
  {
   "cell_type": "markdown",
   "metadata": {},
   "source": [
    "Note that the number of values of DISTANCE/DEP_DELAY/TAXI_OUT/ARR_DELAY are not the same\n",
    "We need to remove the diverted or the cancelled flights"
   ]
  },
  {
   "cell_type": "markdown",
   "metadata": {},
   "source": [
    "<h3>Logistic Regression"
   ]
  },
  {
   "cell_type": "code",
   "execution_count": 103,
   "metadata": {},
   "outputs": [
    {
     "name": "stdout",
     "output_type": "stream",
     "text": [
      "+-------+------------------+-----------------+-----------------+-----------------+\n",
      "|summary|         DEP_DELAY|         TAXI_OUT|        ARR_DELAY|         DISTANCE|\n",
      "+-------+------------------+-----------------+-----------------+-----------------+\n",
      "|  count|            468986|           468986|           468986|           468986|\n",
      "|   mean| 8.890148106766514|16.09936970399969|3.612269875859834|830.3768236152039|\n",
      "| stddev|35.023425762235405|8.731830083231012|37.10003871707921|  617.77572595311|\n",
      "|    min|             -41.0|              1.0|            -81.0|             31.0|\n",
      "|    max|            1878.0|            177.0|           1898.0|           4983.0|\n",
      "+-------+------------------+-----------------+-----------------+-----------------+\n",
      "\n"
     ]
    }
   ],
   "source": [
    "query = \"\"\"\n",
    "SELECT\n",
    "  f.DEP_DELAY,f.TAXI_OUT,f.ARR_DELAY,f.DISTANCE\n",
    "FROM flights_view f\n",
    "JOIN traindays_view t\n",
    "ON f.FL_DATE == t.FL_DATE\n",
    "WHERE\n",
    "  t.is_train_day == 'True' and \n",
    "  f.ARR_DELAY is not null and\n",
    "  f.DEP_DELAY is not null\n",
    "\"\"\"\n",
    "data = spark.sql(query)\n",
    "data.describe().show()"
   ]
  },
  {
   "cell_type": "markdown",
   "metadata": {},
   "source": [
    "Now all the values are equal. Here we could do away with the flights that doesnot have DEP_DELAY/ARR_DELAY. In other cases, certain other scenarios must be taken care of \n",
    "\n",
    "Just to check that we have done right or not we will use an alternate query"
   ]
  },
  {
   "cell_type": "code",
   "execution_count": 104,
   "metadata": {},
   "outputs": [
    {
     "name": "stdout",
     "output_type": "stream",
     "text": [
      "+-------+------------------+-----------------+-----------------+-----------------+\n",
      "|summary|         DEP_DELAY|         TAXI_OUT|        ARR_DELAY|         DISTANCE|\n",
      "+-------+------------------+-----------------+-----------------+-----------------+\n",
      "|  count|            468986|           468986|           468986|           468986|\n",
      "|   mean| 8.890148106766514|16.09936970399969|3.612269875859834|830.3768236152039|\n",
      "| stddev|35.023425762235405|8.731830083231012|37.10003871707921|  617.77572595311|\n",
      "|    min|             -41.0|              1.0|            -81.0|             31.0|\n",
      "|    max|            1878.0|            177.0|           1898.0|           4983.0|\n",
      "+-------+------------------+-----------------+-----------------+-----------------+\n",
      "\n"
     ]
    }
   ],
   "source": [
    "query = \"\"\"\n",
    "SELECT\n",
    "  f.DEP_DELAY,f.TAXI_OUT,f.ARR_DELAY,f.DISTANCE\n",
    "FROM flights_view f\n",
    "JOIN traindays_view t\n",
    "ON f.FL_DATE == t.FL_DATE\n",
    "WHERE\n",
    "  t.is_train_day == 'True' and \n",
    "  f.CANCELLED == '0.00' and\n",
    "  f.DIVERTED == '0.00' \n",
    "\"\"\"\n",
    "data = spark.sql(query)\n",
    "data.describe().show()"
   ]
  },
  {
   "cell_type": "markdown",
   "metadata": {},
   "source": [
    "Both the values are coming out to be same....!!\n",
    "So our assumption is correct\n",
    "\n",
    "\n",
    "Creating a labeled point from the dataset"
   ]
  },
  {
   "cell_type": "code",
   "execution_count": 108,
   "metadata": {},
   "outputs": [],
   "source": [
    "from pyspark.mllib.classification import LogisticRegressionWithLBFGS\n",
    "from pyspark.mllib.regression import LabeledPoint"
   ]
  },
  {
   "cell_type": "code",
   "execution_count": 109,
   "metadata": {},
   "outputs": [],
   "source": [
    "def to_example(fields):\n",
    "  return LabeledPoint(float(fields['ARR_DELAY'] < 15),[fields['DEP_DELAY'],fields['DISTANCE'],fields['TAXI_OUT']])\n",
    "  "
   ]
  },
  {
   "cell_type": "markdown",
   "metadata": {},
   "source": [
    "Creating RDD from the current datasets"
   ]
  },
  {
   "cell_type": "code",
   "execution_count": 111,
   "metadata": {},
   "outputs": [],
   "source": [
    "data_rdd = data.rdd.map(to_example)\n"
   ]
  },
  {
   "cell_type": "markdown",
   "metadata": {},
   "source": [
    "Creating a logistic regression model and training the model with the given examples\n"
   ]
  },
  {
   "cell_type": "code",
   "execution_count": 113,
   "metadata": {},
   "outputs": [
    {
     "name": "stdout",
     "output_type": "stream",
     "text": [
      "[-0.17296318144717224,0.0003554348034534262,-0.1297964614258748] 5.44987500342\n"
     ]
    }
   ],
   "source": [
    "#model = LogisticRegressionWithLBFGS.train(data_rdd,intercept=True)\n",
    "print model.weights,model.intercept"
   ]
  },
  {
   "cell_type": "markdown",
   "metadata": {},
   "source": [
    "Now we have trained the model\n",
    "\n",
    "Now we are ready for predicting the values"
   ]
  },
  {
   "cell_type": "code",
   "execution_count": 124,
   "metadata": {},
   "outputs": [
    {
     "name": "stdout",
     "output_type": "stream",
     "text": [
      "0\n",
      "1\n"
     ]
    }
   ],
   "source": [
    "print model.predict([15.0,100.0,100.0])\n",
    "print model.predict([2.0,594.0,3.0])"
   ]
  },
  {
   "cell_type": "markdown",
   "metadata": {},
   "source": [
    "Here the implicit probability threshold is 0.5 \n",
    "\n",
    "Removing the probability threshold of 0.5 "
   ]
  },
  {
   "cell_type": "code",
   "execution_count": 134,
   "metadata": {},
   "outputs": [
    {
     "name": "stdout",
     "output_type": "stream",
     "text": [
      "0.465896616276\n",
      "0.992794560511\n"
     ]
    }
   ],
   "source": [
    "model.clearThreshold()\n",
    "print model.predict([25.0,100.0,10.0])\n",
    "print model.predict([2.0,594.0,3.0])"
   ]
  },
  {
   "cell_type": "markdown",
   "metadata": {},
   "source": [
    "<h3>Predict with the model</h3>\n",
    "\n",
    "saving the model"
   ]
  },
  {
   "cell_type": "code",
   "execution_count": 137,
   "metadata": {},
   "outputs": [
    {
     "name": "stdout",
     "output_type": "stream",
     "text": [
      "CommandException: 1 files/objects could not be removed.\r\n"
     ]
    }
   ],
   "source": [
    "!gsutil -m rm -r gs://$BUCKET/flights/spark_ml_output/logistic_reg_model\n",
    "MODEL_FILE = 'gs://'+BUCKET+'/flights/spark_ml_output/logistic_reg_model'\n",
    "model.save(sc,MODEL_FILE)"
   ]
  },
  {
   "cell_type": "markdown",
   "metadata": {},
   "source": [
    "Erasing the model"
   ]
  },
  {
   "cell_type": "code",
   "execution_count": 138,
   "metadata": {},
   "outputs": [],
   "source": [
    "model = 0"
   ]
  },
  {
   "cell_type": "markdown",
   "metadata": {},
   "source": [
    "Retriving the model from remote cloud bucket"
   ]
  },
  {
   "cell_type": "code",
   "execution_count": 139,
   "metadata": {},
   "outputs": [],
   "source": [
    "from pyspark.mllib.classification import LogisticRegressionModel\n",
    "model = LogisticRegressionModel.load(sc,MODEL_FILE)\n"
   ]
  },
  {
   "cell_type": "markdown",
   "metadata": {},
   "source": [
    "Setting the thresold to 0.7"
   ]
  },
  {
   "cell_type": "code",
   "execution_count": null,
   "metadata": {},
   "outputs": [],
   "source": [
    "model.setThreshold(0.7)"
   ]
  },
  {
   "cell_type": "markdown",
   "metadata": {},
   "source": [
    "Predicting once again "
   ]
  },
  {
   "cell_type": "code",
   "execution_count": 140,
   "metadata": {},
   "outputs": [
    {
     "data": {
      "text/plain": [
       "1"
      ]
     },
     "execution_count": 140,
     "metadata": {},
     "output_type": "execute_result"
    }
   ],
   "source": [
    "model.predict([9.0,879.0,10.0])"
   ]
  },
  {
   "cell_type": "markdown",
   "metadata": {},
   "source": [
    "<h3>Examining the model behaviour </h3>\n",
    "\n",
    "First we try to plot the probability with respect to with respect to distance"
   ]
  },
  {
   "cell_type": "code",
   "execution_count": 142,
   "metadata": {},
   "outputs": [],
   "source": [
    "import numpy as np\n",
    "import pandas as pd\n",
    "import matplotlib.pyplot as plt"
   ]
  },
  {
   "cell_type": "code",
   "execution_count": 143,
   "metadata": {},
   "outputs": [],
   "source": [
    "dist = np.arange(0,600,10)\n"
   ]
  },
  {
   "cell_type": "markdown",
   "metadata": {},
   "source": [
    "Lets keep the DEP_DELAY=10 and TAXI_OUT = 15 min as constant"
   ]
  },
  {
   "cell_type": "code",
   "execution_count": 147,
   "metadata": {},
   "outputs": [],
   "source": [
    "model.clearThreshold()\n",
    "prob = [model.predict([10,d,15]) for d in dist]\n"
   ]
  },
  {
   "cell_type": "markdown",
   "metadata": {},
   "source": [
    "Plotting the graph using matplotlib"
   ]
  },
  {
   "cell_type": "code",
   "execution_count": 152,
   "metadata": {},
   "outputs": [
    {
     "data": {
      "text/plain": [
       "Text(0,0.5,u'probabilty')"
      ]
     },
     "execution_count": 152,
     "metadata": {},
     "output_type": "execute_result"
    },
    {
     "data": {
      "image/png": "[encoded data removed]",
      "text/plain": [
       "<matplotlib.figure.Figure at 0x7fc0b5655810>"
      ]
     },
     "metadata": {},
     "output_type": "display_data"
    }
   ],
   "source": [
    "plt.plot(dist,prob)\n",
    "\n",
    "plt.xlabel('distance')\n",
    "plt.ylabel('probabilty')"
   ]
  },
  {
   "cell_type": "markdown",
   "metadata": {},
   "source": [
    "Probabilty variation with respect to DEP_DELAY"
   ]
  },
  {
   "cell_type": "code",
   "execution_count": 165,
   "metadata": {},
   "outputs": [
    {
     "data": {
      "text/plain": [
       "Text(0,0.5,u'probability')"
      ]
     },
     "execution_count": 165,
     "metadata": {},
     "output_type": "execute_result"
    },
    {
     "data": {
      "image/png": "[encoded data removed]",
      "text/plain": [
       "<matplotlib.figure.Figure at 0x7fc0b50d7450>"
      ]
     },
     "metadata": {},
     "output_type": "display_data"
    }
   ],
   "source": [
    "dep_delay = np.arange(0,100,1)\n",
    "prob = [model.predict([dd,500.0,10.0]) for dd in dep_delay]\n",
    "\n",
    "\n",
    "plt.figure(figsize=(10,10))\n",
    "plt.plot(dep_delay,prob)\n",
    "plt.xlabel('departure delay')\n",
    "plt.ylabel('probability')"
   ]
  },
  {
   "cell_type": "code",
   "execution_count": null,
   "metadata": {},
   "outputs": [],
   "source": []
  }
 ],
 "metadata": {
  "kernelspec": {
   "display_name": "Python 2",
   "language": "python",
   "name": "python2"
  },
  "language_info": {
   "codemirror_mode": {
    "name": "ipython",
    "version": 2
   },
   "file_extension": ".py",
   "mimetype": "text/x-python",
   "name": "python",
   "nbconvert_exporter": "python",
   "pygments_lexer": "ipython2",
   "version": "2.7.15"
  }
 },
 "nbformat": 4,
 "nbformat_minor": 2
}
