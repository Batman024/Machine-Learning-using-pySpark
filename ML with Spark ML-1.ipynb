{
 "cells": [
  {
   "cell_type": "markdown",
   "metadata": {},
   "source": [
    "Machine Learning using SparkML"
   ]
  },
  {
   "cell_type": "code",
   "execution_count": 2,
   "metadata": {},
   "outputs": [],
   "source": [
    "from pyspark.mllib.classification import LogisticRegressionWithLBFGS\n",
    "from pyspark.mllib.regression import LabeledPoint"
   ]
  },
  {
   "cell_type": "code",
   "execution_count": 15,
   "metadata": {},
   "outputs": [],
   "source": [
    "BUCKET = 'my_first_project_0242'\n",
    "os.environ['BUCKET'] = BUCKET\n"
   ]
  },
  {
   "cell_type": "markdown",
   "metadata": {},
   "source": [
    "We will be considering\n",
    "The flights whose arrival delay < 15 mins as 1\n",
    "and flights whose arrival delay >=15 mins as 0\n",
    "So our logistic regresison model will predict the likelihood of y=1"
   ]
  },
  {
   "cell_type": "markdown",
   "metadata": {},
   "source": [
    "Loading the data from storage bucket"
   ]
  },
  {
   "cell_type": "code",
   "execution_count": 4,
   "metadata": {},
   "outputs": [],
   "source": [
    "traindays = spark.read.option(\"header\",\"true\").csv('gs://my_first_project_0242/flights/trainday.csv')"
   ]
  },
  {
   "cell_type": "code",
   "execution_count": 6,
   "metadata": {},
   "outputs": [],
   "source": [
    "traindays.createOrReplaceTempView('traindays')"
   ]
  },
  {
   "cell_type": "markdown",
   "metadata": {},
   "source": [
    "Printing first 5 lines of code"
   ]
  },
  {
   "cell_type": "code",
   "execution_count": 7,
   "metadata": {},
   "outputs": [
    {
     "name": "stdout",
     "output_type": "stream",
     "text": [
      "+----------+------------+\n",
      "|   FL_DATE|is_train_day|\n",
      "+----------+------------+\n",
      "|2015-01-01|        True|\n",
      "|2015-01-02|       False|\n",
      "|2015-01-03|       False|\n",
      "|2015-01-04|        True|\n",
      "|2015-01-05|        True|\n",
      "+----------+------------+\n",
      "\n"
     ]
    }
   ],
   "source": [
    "spark.sql(\"SELECT * from traindays LIMIT 5\").show()"
   ]
  },
  {
   "cell_type": "code",
   "execution_count": 8,
   "metadata": {},
   "outputs": [],
   "source": [
    "from pyspark.sql.types import StringType,FloatType,StructType,StructField"
   ]
  },
  {
   "cell_type": "markdown",
   "metadata": {},
   "source": [
    "Marking the headers, Creating a framework over the CSV file "
   ]
  },
  {
   "cell_type": "code",
   "execution_count": 12,
   "metadata": {},
   "outputs": [],
   "source": [
    "header = '''FL_DATE,UNIQUE_CARRIER,AIRLINE_ID,CARRIER,FL_NUM,ORIGIN_AIRPORT_ID,\n",
    "ORIGIN_AIRPORT_SEQ_ID,ORIGIN_CITY_MARKET_ID,ORIGIN,DEST_AIRPORT_ID,\n",
    "DEST_AIRPORT_SEQ_ID,DEST_CITY_MARKET_ID,DEST,CRS_DEP_TIME,DEP_TIME,\n",
    "DEP_DELAY,TAXI_OUT,WHEELS_OFF,WHEELS_ON,TAXI_IN,\n",
    "CRS_ARR_TIME,ARR_TIME,ARR_DELAY,CANCELLED,\n",
    "CANCELLATION_CODE,DIVERTED,DISTANCE,DEP_AIRPORT_LAT,\n",
    "DEP_AIRPORT_LON,DEP_AIRPORT_TZOFFSET,ARR_AIRPORT_LAT,ARR_AIRPORT_LON,\n",
    "ARR_AIRPORT_TZOFFSET,EVENT,NOTIFY_TIME'''\n"
   ]
  },
  {
   "cell_type": "code",
   "execution_count": 13,
   "metadata": {},
   "outputs": [
    {
     "data": {
      "text/plain": [
       "<function str.format>"
      ]
     },
     "execution_count": 13,
     "metadata": {},
     "output_type": "execute_result"
    }
   ],
   "source": [
    "header.format"
   ]
  },
  {
   "cell_type": "code",
   "execution_count": 14,
   "metadata": {},
   "outputs": [],
   "source": [
    "def get_structfield(colname):\n",
    "  if colname in ['ARR_DELAY','DEP_DELAY','DISTANCE','TAXI_OUT']:\n",
    "    return StructField(colname,FloatType(),True)\n",
    "  else:\n",
    "    return StructField(colname,StringType(),True)\n",
    "  \n",
    "schema = StructType([get_structfield(colname) for colname in header.split(',')])  "
   ]
  },
  {
   "cell_type": "markdown",
   "metadata": {},
   "source": [
    "We have less amount to resouces. Our hadoop cluster is small. So for demonstation, we will be reading only a small portion of file\n"
   ]
  },
  {
   "cell_type": "code",
   "execution_count": 16,
   "metadata": {},
   "outputs": [],
   "source": [
    "  inputs = 'gs://{}/flights/tzcorr/all_flights-00000-*'.format(BUCKET)"
   ]
  },
  {
   "cell_type": "markdown",
   "metadata": {},
   "source": [
    "Creating a flight view from the schema"
   ]
  },
  {
   "cell_type": "code",
   "execution_count": 17,
   "metadata": {},
   "outputs": [],
   "source": [
    "flights = spark.read.schema(schema).csv(inputs)\n",
    "flights.createOrReplaceTempView('flights')"
   ]
  },
  {
   "cell_type": "markdown",
   "metadata": {},
   "source": [
    "We will train the flights whose is_train_day is True"
   ]
  },
  {
   "cell_type": "code",
   "execution_count": 18,
   "metadata": {},
   "outputs": [],
   "source": [
    "trainquery = \"\"\"\n",
    "SELECT f.* FROM flights f \n",
    "JOIN traindays t\n",
    "ON f.FL_DATE == t.FL_DATE\n",
    "WHERE t.is_train_day == 'True'\n",
    "\"\"\"\n",
    "traindata = spark.sql(trainquery)"
   ]
  },
  {
   "cell_type": "code",
   "execution_count": 19,
   "metadata": {},
   "outputs": [
    {
     "data": {
      "text/plain": [
       "[Row(FL_DATE='2015-08-01', UNIQUE_CARRIER='OO', AIRLINE_ID='20304', CARRIER='OO', FL_NUM='2928', ORIGIN_AIRPORT_ID='13930', \n",
       " ORIGIN_AIRPORT_SEQ_ID='1393003', ORIGIN_CITY_MARKET_ID='30977', ORIGIN='ORD', DEST_AIRPORT_ID='10990', \n",
       " DEST_AIRPORT_SEQ_ID='1099002', DEST_CITY_MARKET_ID='30990', DEST='CHO', CRS_DEP_TIME='2015-08-01T13:20:00', DEP_TIME='2015-08-01T14:11:00', \n",
       " DEP_DELAY='51.00', TAXI_OUT=26.0, WHEELS_OFF='2015-08-01T14:37:00', WHEELS_ON='2015-08-01T15:56:00', TAXI_IN='5.00', \n",
       " CRS_ARR_TIME='2015-08-01T15:15:00', ARR_TIME='2015-08-01T16:01:00', ARR_DELAY=46.0, CANCELLED='0.00', \n",
       " CANCELLATION_CODE=None, DIVERTED='0.00', DISTANCE=567.0, DEP_AIRPORT_LAT='41.97944444', \n",
       " DEP_AIRPORT_LON='-87.90750000', DEP_AIRPORT_TZOFFSET='-18000.0', ARR_AIRPORT_LAT='38.13861111', ARR_AIRPORT_LON='-78.45277778', \n",
       " ARR_AIRPORT_TZOFFSET='-14400.0', EVENT=None, NOTIFY_TIME=None),\n",
       " Row(FL_DATE='2015-08-01', UNIQUE_CARRIER='OO', AIRLINE_ID='20304', CARRIER='OO', FL_NUM='2930', ORIGIN_AIRPORT_ID='13930', \n",
       " ORIGIN_AIRPORT_SEQ_ID='1393003', ORIGIN_CITY_MARKET_ID='30977', ORIGIN='ORD', DEST_AIRPORT_ID='13342', \n",
       " DEST_AIRPORT_SEQ_ID='1334205', DEST_CITY_MARKET_ID='33342', DEST='MKE', CRS_DEP_TIME='2015-08-02T01:05:00', DEP_TIME='2015-08-02T01:04:00', \n",
       " DEP_DELAY='-1.00', TAXI_OUT=13.0, WHEELS_OFF='2015-08-02T01:17:00', WHEELS_ON='2015-08-02T01:37:00', TAXI_IN='5.00', \n",
       " CRS_ARR_TIME='2015-08-02T01:58:00', ARR_TIME='2015-08-02T01:42:00', ARR_DELAY=-16.0, CANCELLED='0.00', \n",
       " CANCELLATION_CODE=None, DIVERTED='0.00', DISTANCE=67.0, DEP_AIRPORT_LAT='41.97944444', \n",
       " DEP_AIRPORT_LON='-87.90750000', DEP_AIRPORT_TZOFFSET='-18000.0', ARR_AIRPORT_LAT='42.94694444', ARR_AIRPORT_LON='-87.89694444', \n",
       " ARR_AIRPORT_TZOFFSET='-18000.0', EVENT=None, NOTIFY_TIME=None)]"
      ]
     },
     "execution_count": 19,
     "metadata": {},
     "output_type": "execute_result"
    }
   ],
   "source": [
    "traindata.head(2)"
   ]
  },
  {
   "cell_type": "markdown",
   "metadata": {},
   "source": [
    "Looking at the basic statistics of the data set"
   ]
  },
  {
   "cell_type": "code",
   "execution_count": 20,
   "metadata": {},
   "outputs": [
    {
     "name": "stdout",
     "output_type": "stream",
     "text": [
      "+-------+----------+--------------+------------------+-------+------------------+------------------+----------------------+---------------------+------+------------------+--------------------+-------------------+------+-------------------+-------------------+-----------------+-----------------+-------------------+-------------------+------------------+-------------------+-------------------+-----------------+--------------------+------------------+--------------------+-----------------+------------------+------------------+--------------------+------------------+-----------------+---------------------+-----+-----------+\n",
      "|summary|   FL_DATE|UNIQUE_CARRIER|        AIRLINE_ID|CARRIER|            FL_NUM| ORIGIN_AIRPORT_ID|\n",
      "ORIGIN_AIRPORT_SEQ_ID|ORIGIN_CITY_MARKET_ID|ORIGIN|   DEST_AIRPORT_ID|\n",
      "DEST_AIRPORT_SEQ_ID|DEST_CITY_MARKET_ID|  DEST|       CRS_DEP_TIME|           DEP_TIME|       \n",
      "DEP_DELAY|         TAXI_OUT|         WHEELS_OFF|          WHEELS_ON|           TAXI_IN|      \n",
      "CRS_ARR_TIME|           ARR_TIME|        ARR_DELAY|           CANCELLED|\n",
      "CANCELLATION_CODE|            DIVERTED|         DISTANCE|   DEP_AIRPORT_LAT|  \n",
      "DEP_AIRPORT_LON|DEP_AIRPORT_TZOFFSET|   ARR_AIRPORT_LAT|  ARR_AIRPORT_LON|\n",
      "ARR_AIRPORT_TZOFFSET|EVENT|NOTIFY_TIME|\n",
      "+-------+----------+--------------+------------------+-------+------------------+------------------+----------------------+---------------------+------+------------------+--------------------+-------------------+------+-------------------+-------------------+-----------------+-----------------+-------------------+-------------------+------------------+-------------------+-------------------+-----------------+--------------------+------------------+--------------------+-----------------+------------------+------------------+--------------------+------------------+-----------------+---------------------+-----+-----------+\n",
      "|  count|    473916|        473916|            473916| 473916|            473916|            473916|                473916|               473916|473916|            473916|              473916|             473916|473916|             473916|             470518|           470518|           470288|             470288|             470106|            470106|             473916|             470106|           468986|              473916|              3666|              473916|           473916|            473916|            473916|              473916|            473916|           473916|               473916|    0|          0|\n",
      "|   mean|      null|          null| 19930.36164425763|   null|2132.2591281999344|12668.223239983457|    1266825.1500898893|     31695.4620059251|  null|12668.321474691718|   1266834.973491083|  31695.69550300053|  null|               null|               null| 8.95174467289243|16.10602651991971|               null|               null|7.5298507145197044|               null|               null|3.612269875859834|0.007735548071810194|              null|0.002667139324268...|829.2826534660151|36.819716693207226|-95.64874859310123| -18667.287873800422|36.819484133241076|-95.6505933246096|  -18660.086597624897| null|       null|\n",
      "| stddev|      null|          null|381.43612589191275|   null|1724.0749284304143|  1528.86823119728|    152886.51881943078|   1283.0670160886114|  null|1528.8167066050603|   152881.3662384521|  1283.118423379198|  null|               null|               null|35.14741134234194| 8.74350523336888|               null|               null|5.5643956569110165|               null|               null|37.10003871707921| 0.08761121825555775|              null| 0.05157549132066953|617.3164121106863| 5.999140799977506|  18.3431744497677|   5062.986165833114| 5.999746518462153|18.34482835891364|    5076.028458814154| null|       null|\n",
      "|    min|2015-08-01|            AA|             19393|     AA|                 1|             10135|               1013503|                30070|   ABE|             10135|             1013503|              30070|   ABE|2015-07-31T20:30:00|2015-07-31T20:43:00|            -1.00|              1.0|2015-07-31T20:55:00|2015-08-01T05:25:00|              1.00|2015-08-01T04:32:00|2015-08-01T05:31:00|            -81.0|                0.00|                 A|                0.00|             31.0|      -14.33000000|     -100.49638889|            -14400.0|      -14.33000000|    -100.49638889|             -14400.0| null|       null|\n",
      "|    max|2015-10-24|            WN|             21171|     WN|               999|             16218|               1621801|                35991|   YUM|             16218|             1621801|              35991|   YUM|2015-10-25T09:35:00|2015-10-25T09:10:00|            99.00|            177.0|2015-10-25T09:38:00|2015-10-25T15:16:00|             99.00|2015-10-26T04:31:00|2015-10-25T15:27:00|           1898.0|                1.00|                 C|                1.00|           4983.0|       71.28472222|      144.79722222|             36000.0|       71.28472222|     144.79722222|              36000.0| null|       null|\n",
      "+-------+----------+--------------+------------------+-------+------------------+------------------+----------------------+---------------------+------+------------------+--------------------+-------------------+------+-------------------+-------------------+-----------------+-----------------+-------------------+-------------------+------------------+-------------------+-------------------+-----------------+--------------------+------------------+--------------------+-----------------+------------------+------------------+--------------------+------------------+-----------------+---------------------+-----+-----------+\n",
      "\n"
     ]
    }
   ],
   "source": [
    "traindata.describe().show()"
   ]
  },
  {
   "cell_type": "markdown",
   "metadata": {},
   "source": [
    "There is mismatch in the statistics of count of distance, dep_delay, taxi_out time\n",
    "There are some flights that are scheduled but they never take off\n",
    "There are some flights that take off but never arrive at the prescibed destination airport\n",
    "Spark describe method never counts NULL values\n"
   ]
  },
  {
   "cell_type": "markdown",
   "metadata": {},
   "source": [
    "Removing the null values of ARR_DELAY and DEP_DELAY"
   ]
  },
  {
   "cell_type": "code",
   "execution_count": 27,
   "metadata": {},
   "outputs": [
    {
     "data": {
      "text/plain": [
       "DataFrame[FL_DATE: string, UNIQUE_CARRIER: string, AIRLINE_ID: string, CARRIER: string, FL_NUM: string, ORIGIN_AIRPORT_ID: string, \n",
       "ORIGIN_AIRPORT_SEQ_ID: string, ORIGIN_CITY_MARKET_ID: string, ORIGIN: string, DEST_AIRPORT_ID: string, \n",
       "DEST_AIRPORT_SEQ_ID: string, DEST_CITY_MARKET_ID: string, DEST: string, CRS_DEP_TIME: string, DEP_TIME: string, \n",
       "DEP_DELAY: string, TAXI_OUT: float, WHEELS_OFF: string, WHEELS_ON: string, TAXI_IN: string, \n",
       "CRS_ARR_TIME: string, ARR_TIME: string, ARR_DELAY: float, CANCELLED: string, \n",
       "CANCELLATION_CODE: string, DIVERTED: string, DISTANCE: float, DEP_AIRPORT_LAT: string, \n",
       "DEP_AIRPORT_LON: string, DEP_AIRPORT_TZOFFSET: string, ARR_AIRPORT_LAT: string, ARR_AIRPORT_LON: string, \n",
       "ARR_AIRPORT_TZOFFSET: string, EVENT: string, NOTIFY_TIME: string]"
      ]
     },
     "execution_count": 27,
     "metadata": {},
     "output_type": "execute_result"
    }
   ],
   "source": [
    "trainquery = \"\"\"\n",
    "SELECT f.* FROM flights f \n",
    "JOIN traindays t\n",
    "ON f.FL_DATE == t.FL_DATE\n",
    "WHERE t.is_train_day == 'True' and 'f.DEP_DELAY' IS NOT NULL\n",
    "\n",
    "\"\"\"\n",
    "traindata = spark.sql(trainquery)\n",
    "traindata"
   ]
  },
  {
   "cell_type": "code",
   "execution_count": null,
   "metadata": {},
   "outputs": [],
   "source": []
  }
 ],
 "metadata": {
  "kernelspec": {
   "display_name": "Python 3",
   "language": "python",
   "name": "python3"
  },
  "language_info": {
   "codemirror_mode": {
    "name": "ipython",
    "version": 3
   },
   "file_extension": ".py",
   "mimetype": "text/x-python",
   "name": "python",
   "nbconvert_exporter": "python",
   "pygments_lexer": "ipython3",
   "version": "3.5.6"
  }
 },
 "nbformat": 4,
 "nbformat_minor": 2
}
